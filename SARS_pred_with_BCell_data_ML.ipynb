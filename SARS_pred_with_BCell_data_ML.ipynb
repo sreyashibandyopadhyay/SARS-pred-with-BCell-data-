{
  "nbformat": 4,
  "nbformat_minor": 0,
  "metadata": {
    "colab": {
      "name": "SARS pred with BCell data_ML.ipynb",
      "provenance": [],
      "collapsed_sections": []
    },
    "kernelspec": {
      "name": "python3",
      "display_name": "Python 3"
    },
    "language_info": {
      "name": "python"
    }
  },
  "cells": [
    {
      "cell_type": "code",
      "metadata": {
        "id": "YCPLQgIkBuiX"
      },
      "source": [
        "import numpy as np \n",
        "import pandas as pd "
      ],
      "execution_count": 1,
      "outputs": []
    },
    {
      "cell_type": "code",
      "metadata": {
        "id": "ZFqdLOWrCDzZ"
      },
      "source": [
        "training_data= pd.read_csv('/content/input_bcell.csv')"
      ],
      "execution_count": 2,
      "outputs": []
    },
    {
      "cell_type": "code",
      "metadata": {
        "colab": {
          "base_uri": "https://localhost:8080/",
          "height": 437
        },
        "id": "9FWfYbEQGnse",
        "outputId": "21b697ba-f72e-423e-fa52-87ad5a8ded03"
      },
      "source": [
        "training_data"
      ],
      "execution_count": 3,
      "outputs": [
        {
          "output_type": "execute_result",
          "data": {
            "text/html": [
              "<div>\n",
              "<style scoped>\n",
              "    .dataframe tbody tr th:only-of-type {\n",
              "        vertical-align: middle;\n",
              "    }\n",
              "\n",
              "    .dataframe tbody tr th {\n",
              "        vertical-align: top;\n",
              "    }\n",
              "\n",
              "    .dataframe thead th {\n",
              "        text-align: right;\n",
              "    }\n",
              "</style>\n",
              "<table border=\"1\" class=\"dataframe\">\n",
              "  <thead>\n",
              "    <tr style=\"text-align: right;\">\n",
              "      <th></th>\n",
              "      <th>parent_protein_id</th>\n",
              "      <th>protein_seq</th>\n",
              "      <th>start_position</th>\n",
              "      <th>end_position</th>\n",
              "      <th>peptide_seq</th>\n",
              "      <th>chou_fasman</th>\n",
              "      <th>emini</th>\n",
              "      <th>kolaskar_tongaonkar</th>\n",
              "      <th>parker</th>\n",
              "      <th>isoelectric_point</th>\n",
              "      <th>aromaticity</th>\n",
              "      <th>hydrophobicity</th>\n",
              "      <th>stability</th>\n",
              "      <th>target</th>\n",
              "    </tr>\n",
              "  </thead>\n",
              "  <tbody>\n",
              "    <tr>\n",
              "      <th>0</th>\n",
              "      <td>A2T3T0</td>\n",
              "      <td>MDVLYSLSKTLKDARDKIVEGTLYSNVSDLIQQFNQMIITMNGNEF...</td>\n",
              "      <td>161</td>\n",
              "      <td>165</td>\n",
              "      <td>SASFT</td>\n",
              "      <td>1.016</td>\n",
              "      <td>0.703</td>\n",
              "      <td>1.018</td>\n",
              "      <td>2.220</td>\n",
              "      <td>5.810364</td>\n",
              "      <td>0.103275</td>\n",
              "      <td>-0.143829</td>\n",
              "      <td>40.273300</td>\n",
              "      <td>1</td>\n",
              "    </tr>\n",
              "    <tr>\n",
              "      <th>1</th>\n",
              "      <td>F0V2I4</td>\n",
              "      <td>MTIHKVAINGFGRIGRLLFRNLLSSQGVQVVAVNDVVDIKVLTHLL...</td>\n",
              "      <td>251</td>\n",
              "      <td>255</td>\n",
              "      <td>LCLKI</td>\n",
              "      <td>0.770</td>\n",
              "      <td>0.179</td>\n",
              "      <td>1.199</td>\n",
              "      <td>-3.860</td>\n",
              "      <td>6.210876</td>\n",
              "      <td>0.065476</td>\n",
              "      <td>-0.036905</td>\n",
              "      <td>24.998512</td>\n",
              "      <td>1</td>\n",
              "    </tr>\n",
              "    <tr>\n",
              "      <th>2</th>\n",
              "      <td>O75508</td>\n",
              "      <td>MVATCLQVVGFVTSFVGWIGVIVTTSTNDWVVTCGYTIPTCRKLDE...</td>\n",
              "      <td>145</td>\n",
              "      <td>149</td>\n",
              "      <td>AHRET</td>\n",
              "      <td>0.852</td>\n",
              "      <td>3.427</td>\n",
              "      <td>0.960</td>\n",
              "      <td>4.280</td>\n",
              "      <td>8.223938</td>\n",
              "      <td>0.091787</td>\n",
              "      <td>0.879227</td>\n",
              "      <td>27.863333</td>\n",
              "      <td>1</td>\n",
              "    </tr>\n",
              "    <tr>\n",
              "      <th>3</th>\n",
              "      <td>O84462</td>\n",
              "      <td>MTNSISGYQPTVTTSTSSTTSASGASGSLGASSVSTTANATVTQTA...</td>\n",
              "      <td>152</td>\n",
              "      <td>156</td>\n",
              "      <td>SNYDD</td>\n",
              "      <td>1.410</td>\n",
              "      <td>2.548</td>\n",
              "      <td>0.936</td>\n",
              "      <td>6.320</td>\n",
              "      <td>4.237976</td>\n",
              "      <td>0.044776</td>\n",
              "      <td>-0.521393</td>\n",
              "      <td>30.765373</td>\n",
              "      <td>1</td>\n",
              "    </tr>\n",
              "    <tr>\n",
              "      <th>4</th>\n",
              "      <td>P00918</td>\n",
              "      <td>MSHHWGYGKHNGPEHWHKDFPIAKGERQSPVDIDTHTAKYDPSLKP...</td>\n",
              "      <td>85</td>\n",
              "      <td>89</td>\n",
              "      <td>DGTYR</td>\n",
              "      <td>1.214</td>\n",
              "      <td>1.908</td>\n",
              "      <td>0.937</td>\n",
              "      <td>4.640</td>\n",
              "      <td>6.867493</td>\n",
              "      <td>0.103846</td>\n",
              "      <td>-0.578846</td>\n",
              "      <td>21.684615</td>\n",
              "      <td>1</td>\n",
              "    </tr>\n",
              "    <tr>\n",
              "      <th>...</th>\n",
              "      <td>...</td>\n",
              "      <td>...</td>\n",
              "      <td>...</td>\n",
              "      <td>...</td>\n",
              "      <td>...</td>\n",
              "      <td>...</td>\n",
              "      <td>...</td>\n",
              "      <td>...</td>\n",
              "      <td>...</td>\n",
              "      <td>...</td>\n",
              "      <td>...</td>\n",
              "      <td>...</td>\n",
              "      <td>...</td>\n",
              "      <td>...</td>\n",
              "    </tr>\n",
              "    <tr>\n",
              "      <th>14382</th>\n",
              "      <td>Q91DE1</td>\n",
              "      <td>MDRGTRRIWVSQNQGDTDLDYHKILTAGLTVQQGIVRQKIISVYLV...</td>\n",
              "      <td>177</td>\n",
              "      <td>191</td>\n",
              "      <td>QVHAEQGLIQYPTAW</td>\n",
              "      <td>0.910</td>\n",
              "      <td>0.175</td>\n",
              "      <td>1.054</td>\n",
              "      <td>0.820</td>\n",
              "      <td>4.894836</td>\n",
              "      <td>0.071719</td>\n",
              "      <td>-0.701083</td>\n",
              "      <td>46.875237</td>\n",
              "      <td>0</td>\n",
              "    </tr>\n",
              "    <tr>\n",
              "      <th>14383</th>\n",
              "      <td>Q91DE1</td>\n",
              "      <td>MDRGTRRIWVSQNQGDTDLDYHKILTAGLTVQQGIVRQKIISVYLV...</td>\n",
              "      <td>285</td>\n",
              "      <td>299</td>\n",
              "      <td>SSLAKHGEYAPFARL</td>\n",
              "      <td>0.966</td>\n",
              "      <td>0.216</td>\n",
              "      <td>1.044</td>\n",
              "      <td>1.160</td>\n",
              "      <td>4.894836</td>\n",
              "      <td>0.071719</td>\n",
              "      <td>-0.701083</td>\n",
              "      <td>46.875237</td>\n",
              "      <td>0</td>\n",
              "    </tr>\n",
              "    <tr>\n",
              "      <th>14384</th>\n",
              "      <td>Q91DE1</td>\n",
              "      <td>MDRGTRRIWVSQNQGDTDLDYHKILTAGLTVQQGIVRQKIISVYLV...</td>\n",
              "      <td>189</td>\n",
              "      <td>203</td>\n",
              "      <td>TAWQSVGHMMVIFRL</td>\n",
              "      <td>0.821</td>\n",
              "      <td>0.023</td>\n",
              "      <td>1.044</td>\n",
              "      <td>-1.360</td>\n",
              "      <td>4.894836</td>\n",
              "      <td>0.071719</td>\n",
              "      <td>-0.701083</td>\n",
              "      <td>46.875237</td>\n",
              "      <td>0</td>\n",
              "    </tr>\n",
              "    <tr>\n",
              "      <th>14385</th>\n",
              "      <td>Q9QZS0</td>\n",
              "      <td>MHSKTAPRFLVFLLLTLLLLLAASPVASKGCVCKGKGQCLCAGTKG...</td>\n",
              "      <td>1479</td>\n",
              "      <td>1493</td>\n",
              "      <td>KRAHGQDLGTLGSCL</td>\n",
              "      <td>1.069</td>\n",
              "      <td>0.239</td>\n",
              "      <td>1.037</td>\n",
              "      <td>2.180</td>\n",
              "      <td>9.553040</td>\n",
              "      <td>0.044338</td>\n",
              "      <td>-0.671001</td>\n",
              "      <td>29.494308</td>\n",
              "      <td>0</td>\n",
              "    </tr>\n",
              "    <tr>\n",
              "      <th>14386</th>\n",
              "      <td>Q9QZS0</td>\n",
              "      <td>MHSKTAPRFLVFLLLTLLLLLAASPVASKGCVCKGKGQCLCAGTKG...</td>\n",
              "      <td>1647</td>\n",
              "      <td>1661</td>\n",
              "      <td>STVKAGDLEKIISRC</td>\n",
              "      <td>0.962</td>\n",
              "      <td>0.257</td>\n",
              "      <td>1.045</td>\n",
              "      <td>2.127</td>\n",
              "      <td>9.553040</td>\n",
              "      <td>0.044338</td>\n",
              "      <td>-0.671001</td>\n",
              "      <td>29.494308</td>\n",
              "      <td>1</td>\n",
              "    </tr>\n",
              "  </tbody>\n",
              "</table>\n",
              "<p>14387 rows × 14 columns</p>\n",
              "</div>"
            ],
            "text/plain": [
              "      parent_protein_id  ... target\n",
              "0                A2T3T0  ...      1\n",
              "1                F0V2I4  ...      1\n",
              "2                O75508  ...      1\n",
              "3                O84462  ...      1\n",
              "4                P00918  ...      1\n",
              "...                 ...  ...    ...\n",
              "14382            Q91DE1  ...      0\n",
              "14383            Q91DE1  ...      0\n",
              "14384            Q91DE1  ...      0\n",
              "14385            Q9QZS0  ...      0\n",
              "14386            Q9QZS0  ...      1\n",
              "\n",
              "[14387 rows x 14 columns]"
            ]
          },
          "metadata": {
            "tags": []
          },
          "execution_count": 3
        }
      ]
    },
    {
      "cell_type": "code",
      "metadata": {
        "id": "2xRJI9lALL9L"
      },
      "source": [
        "test_data= pd.read_csv('/content/input_sars.csv')"
      ],
      "execution_count": 4,
      "outputs": []
    },
    {
      "cell_type": "code",
      "metadata": {
        "colab": {
          "base_uri": "https://localhost:8080/",
          "height": 437
        },
        "id": "QtkRbwU4MGjR",
        "outputId": "f7f93019-f862-4d5e-ec1d-65b9bb00c0fc"
      },
      "source": [
        "test_data "
      ],
      "execution_count": 5,
      "outputs": [
        {
          "output_type": "execute_result",
          "data": {
            "text/html": [
              "<div>\n",
              "<style scoped>\n",
              "    .dataframe tbody tr th:only-of-type {\n",
              "        vertical-align: middle;\n",
              "    }\n",
              "\n",
              "    .dataframe tbody tr th {\n",
              "        vertical-align: top;\n",
              "    }\n",
              "\n",
              "    .dataframe thead th {\n",
              "        text-align: right;\n",
              "    }\n",
              "</style>\n",
              "<table border=\"1\" class=\"dataframe\">\n",
              "  <thead>\n",
              "    <tr style=\"text-align: right;\">\n",
              "      <th></th>\n",
              "      <th>parent_protein_id</th>\n",
              "      <th>protein_seq</th>\n",
              "      <th>start_position</th>\n",
              "      <th>end_position</th>\n",
              "      <th>peptide_seq</th>\n",
              "      <th>chou_fasman</th>\n",
              "      <th>emini</th>\n",
              "      <th>kolaskar_tongaonkar</th>\n",
              "      <th>parker</th>\n",
              "      <th>isoelectric_point</th>\n",
              "      <th>aromaticity</th>\n",
              "      <th>hydrophobicity</th>\n",
              "      <th>stability</th>\n",
              "      <th>target</th>\n",
              "    </tr>\n",
              "  </thead>\n",
              "  <tbody>\n",
              "    <tr>\n",
              "      <th>0</th>\n",
              "      <td>AAU93319</td>\n",
              "      <td>MFIFLLFLTLTSGSDLDRCTTFDDVQAPNYTQHTSSMRGVYYPDEI...</td>\n",
              "      <td>1</td>\n",
              "      <td>17</td>\n",
              "      <td>MFIFLLFLTLTSGSDLD</td>\n",
              "      <td>0.887</td>\n",
              "      <td>0.040</td>\n",
              "      <td>1.056</td>\n",
              "      <td>-2.159</td>\n",
              "      <td>5.569763</td>\n",
              "      <td>0.116335</td>\n",
              "      <td>-0.061116</td>\n",
              "      <td>33.205116</td>\n",
              "      <td>0</td>\n",
              "    </tr>\n",
              "    <tr>\n",
              "      <th>1</th>\n",
              "      <td>AAU93319</td>\n",
              "      <td>MFIFLLFLTLTSGSDLDRCTTFDDVQAPNYTQHTSSMRGVYYPDEI...</td>\n",
              "      <td>1</td>\n",
              "      <td>15</td>\n",
              "      <td>MFIFLLFLTLTSGSD</td>\n",
              "      <td>0.869</td>\n",
              "      <td>0.047</td>\n",
              "      <td>1.056</td>\n",
              "      <td>-2.500</td>\n",
              "      <td>5.569763</td>\n",
              "      <td>0.116335</td>\n",
              "      <td>-0.061116</td>\n",
              "      <td>33.205116</td>\n",
              "      <td>0</td>\n",
              "    </tr>\n",
              "    <tr>\n",
              "      <th>2</th>\n",
              "      <td>AAU93319</td>\n",
              "      <td>MFIFLLFLTLTSGSDLDRCTTFDDVQAPNYTQHTSSMRGVYYPDEI...</td>\n",
              "      <td>2</td>\n",
              "      <td>10</td>\n",
              "      <td>FIFLLFLTL</td>\n",
              "      <td>0.621</td>\n",
              "      <td>0.042</td>\n",
              "      <td>1.148</td>\n",
              "      <td>-7.467</td>\n",
              "      <td>5.569763</td>\n",
              "      <td>0.116335</td>\n",
              "      <td>-0.061116</td>\n",
              "      <td>33.205116</td>\n",
              "      <td>0</td>\n",
              "    </tr>\n",
              "    <tr>\n",
              "      <th>3</th>\n",
              "      <td>AAU93319</td>\n",
              "      <td>MFIFLLFLTLTSGSDLDRCTTFDDVQAPNYTQHTSSMRGVYYPDEI...</td>\n",
              "      <td>6</td>\n",
              "      <td>20</td>\n",
              "      <td>LFLTLTSGSDLDRCT</td>\n",
              "      <td>1.021</td>\n",
              "      <td>0.230</td>\n",
              "      <td>1.049</td>\n",
              "      <td>0.927</td>\n",
              "      <td>5.569763</td>\n",
              "      <td>0.116335</td>\n",
              "      <td>-0.061116</td>\n",
              "      <td>33.205116</td>\n",
              "      <td>0</td>\n",
              "    </tr>\n",
              "    <tr>\n",
              "      <th>4</th>\n",
              "      <td>AAU93319</td>\n",
              "      <td>MFIFLLFLTLTSGSDLDRCTTFDDVQAPNYTQHTSSMRGVYYPDEI...</td>\n",
              "      <td>9</td>\n",
              "      <td>25</td>\n",
              "      <td>TLTSGSDLDRCTTFDDV</td>\n",
              "      <td>1.089</td>\n",
              "      <td>0.627</td>\n",
              "      <td>1.015</td>\n",
              "      <td>3.165</td>\n",
              "      <td>5.569763</td>\n",
              "      <td>0.116335</td>\n",
              "      <td>-0.061116</td>\n",
              "      <td>33.205116</td>\n",
              "      <td>0</td>\n",
              "    </tr>\n",
              "    <tr>\n",
              "      <th>...</th>\n",
              "      <td>...</td>\n",
              "      <td>...</td>\n",
              "      <td>...</td>\n",
              "      <td>...</td>\n",
              "      <td>...</td>\n",
              "      <td>...</td>\n",
              "      <td>...</td>\n",
              "      <td>...</td>\n",
              "      <td>...</td>\n",
              "      <td>...</td>\n",
              "      <td>...</td>\n",
              "      <td>...</td>\n",
              "      <td>...</td>\n",
              "      <td>...</td>\n",
              "    </tr>\n",
              "    <tr>\n",
              "      <th>515</th>\n",
              "      <td>AAU93319</td>\n",
              "      <td>MFIFLLFLTLTSGSDLDRCTTFDDVQAPNYTQHTSSMRGVYYPDEI...</td>\n",
              "      <td>1231</td>\n",
              "      <td>1245</td>\n",
              "      <td>SCGSCCKFDEDDSEP</td>\n",
              "      <td>1.227</td>\n",
              "      <td>0.503</td>\n",
              "      <td>1.035</td>\n",
              "      <td>4.907</td>\n",
              "      <td>5.569763</td>\n",
              "      <td>0.116335</td>\n",
              "      <td>-0.061116</td>\n",
              "      <td>33.205116</td>\n",
              "      <td>0</td>\n",
              "    </tr>\n",
              "    <tr>\n",
              "      <th>516</th>\n",
              "      <td>AAU93319</td>\n",
              "      <td>MFIFLLFLTLTSGSDLDRCTTFDDVQAPNYTQHTSSMRGVYYPDEI...</td>\n",
              "      <td>1234</td>\n",
              "      <td>1255</td>\n",
              "      <td>SCCKFDEDDSEPVLKGVKLHYT</td>\n",
              "      <td>1.047</td>\n",
              "      <td>0.606</td>\n",
              "      <td>1.064</td>\n",
              "      <td>2.577</td>\n",
              "      <td>5.569763</td>\n",
              "      <td>0.116335</td>\n",
              "      <td>-0.061116</td>\n",
              "      <td>33.205116</td>\n",
              "      <td>0</td>\n",
              "    </tr>\n",
              "    <tr>\n",
              "      <th>517</th>\n",
              "      <td>AAU93319</td>\n",
              "      <td>MFIFLLFLTLTSGSDLDRCTTFDDVQAPNYTQHTSSMRGVYYPDEI...</td>\n",
              "      <td>1236</td>\n",
              "      <td>1255</td>\n",
              "      <td>CKFDEDDSEPVLKGVKLHYT</td>\n",
              "      <td>1.021</td>\n",
              "      <td>1.361</td>\n",
              "      <td>1.049</td>\n",
              "      <td>2.440</td>\n",
              "      <td>5.569763</td>\n",
              "      <td>0.116335</td>\n",
              "      <td>-0.061116</td>\n",
              "      <td>33.205116</td>\n",
              "      <td>1</td>\n",
              "    </tr>\n",
              "    <tr>\n",
              "      <th>518</th>\n",
              "      <td>AAU93319</td>\n",
              "      <td>MFIFLLFLTLTSGSDLDRCTTFDDVQAPNYTQHTSSMRGVYYPDEI...</td>\n",
              "      <td>1236</td>\n",
              "      <td>1250</td>\n",
              "      <td>CKFDEDDSEPVLKGV</td>\n",
              "      <td>1.051</td>\n",
              "      <td>0.886</td>\n",
              "      <td>1.042</td>\n",
              "      <td>3.127</td>\n",
              "      <td>5.569763</td>\n",
              "      <td>0.116335</td>\n",
              "      <td>-0.061116</td>\n",
              "      <td>33.205116</td>\n",
              "      <td>0</td>\n",
              "    </tr>\n",
              "    <tr>\n",
              "      <th>519</th>\n",
              "      <td>AAU93319</td>\n",
              "      <td>MFIFLLFLTLTSGSDLDRCTTFDDVQAPNYTQHTSSMRGVYYPDEI...</td>\n",
              "      <td>1241</td>\n",
              "      <td>1255</td>\n",
              "      <td>DDSEPVLKGVKLHYT</td>\n",
              "      <td>1.028</td>\n",
              "      <td>1.675</td>\n",
              "      <td>1.056</td>\n",
              "      <td>2.207</td>\n",
              "      <td>5.569763</td>\n",
              "      <td>0.116335</td>\n",
              "      <td>-0.061116</td>\n",
              "      <td>33.205116</td>\n",
              "      <td>0</td>\n",
              "    </tr>\n",
              "  </tbody>\n",
              "</table>\n",
              "<p>520 rows × 14 columns</p>\n",
              "</div>"
            ],
            "text/plain": [
              "    parent_protein_id  ... target\n",
              "0            AAU93319  ...      0\n",
              "1            AAU93319  ...      0\n",
              "2            AAU93319  ...      0\n",
              "3            AAU93319  ...      0\n",
              "4            AAU93319  ...      0\n",
              "..                ...  ...    ...\n",
              "515          AAU93319  ...      0\n",
              "516          AAU93319  ...      0\n",
              "517          AAU93319  ...      1\n",
              "518          AAU93319  ...      0\n",
              "519          AAU93319  ...      0\n",
              "\n",
              "[520 rows x 14 columns]"
            ]
          },
          "metadata": {
            "tags": []
          },
          "execution_count": 5
        }
      ]
    },
    {
      "cell_type": "code",
      "metadata": {
        "id": "ghedOXXnQS54"
      },
      "source": [
        "features=[\"chou_fasman\",\"emini\",\"kolaskar_tongaonkar\",\"parker\",\"isoelectric_point\",\"aromaticity\",\"hydrophobicity\",\"stability\"]"
      ],
      "execution_count": 6,
      "outputs": []
    },
    {
      "cell_type": "code",
      "metadata": {
        "id": "1ZCK6GthRdcb"
      },
      "source": [
        "x_train = training_data[features]\n",
        "y_train = training_data['target']"
      ],
      "execution_count": 7,
      "outputs": []
    },
    {
      "cell_type": "code",
      "metadata": {
        "id": "HKhaX3_AR1fv"
      },
      "source": [
        "x_test = test_data[features]\n",
        "y_test= test_data['target']"
      ],
      "execution_count": 8,
      "outputs": []
    },
    {
      "cell_type": "code",
      "metadata": {
        "id": "EzmWyfEDR8dV",
        "colab": {
          "base_uri": "https://localhost:8080/"
        },
        "outputId": "23a8d5ec-d8d8-40a3-9bdf-b6c9a0532b0e"
      },
      "source": [
        "print(x_train.shape)\n",
        "print(x_test.shape)\n",
        "print(y_train.shape)\n",
        "print(y_test.shape)"
      ],
      "execution_count": 9,
      "outputs": [
        {
          "output_type": "stream",
          "text": [
            "(14387, 8)\n",
            "(520, 8)\n",
            "(14387,)\n",
            "(520,)\n"
          ],
          "name": "stdout"
        }
      ]
    },
    {
      "cell_type": "markdown",
      "metadata": {
        "id": "PD2XcNE_sfsP"
      },
      "source": [
        "**Logistic Regression**"
      ]
    },
    {
      "cell_type": "code",
      "metadata": {
        "id": "HKHMgwg8rLcI"
      },
      "source": [
        "from sklearn.linear_model import LogisticRegression "
      ],
      "execution_count": 10,
      "outputs": []
    },
    {
      "cell_type": "code",
      "metadata": {
        "id": "WxNTHlloreGq"
      },
      "source": [
        "log_model= LogisticRegression()"
      ],
      "execution_count": 11,
      "outputs": []
    },
    {
      "cell_type": "code",
      "metadata": {
        "colab": {
          "base_uri": "https://localhost:8080/"
        },
        "id": "9zMgx1oGr4HM",
        "outputId": "708d8a76-8372-44d3-a3b9-94bd6e603fd9"
      },
      "source": [
        "log_model.fit(x_train,y_train)"
      ],
      "execution_count": 13,
      "outputs": [
        {
          "output_type": "execute_result",
          "data": {
            "text/plain": [
              "LogisticRegression(C=1.0, class_weight=None, dual=False, fit_intercept=True,\n",
              "                   intercept_scaling=1, l1_ratio=None, max_iter=100,\n",
              "                   multi_class='auto', n_jobs=None, penalty='l2',\n",
              "                   random_state=None, solver='lbfgs', tol=0.0001, verbose=0,\n",
              "                   warm_start=False)"
            ]
          },
          "metadata": {
            "tags": []
          },
          "execution_count": 13
        }
      ]
    },
    {
      "cell_type": "code",
      "metadata": {
        "id": "4ETbt7Ahrjqn"
      },
      "source": [
        "y_pred = log_model.predict(x_test)"
      ],
      "execution_count": 15,
      "outputs": []
    },
    {
      "cell_type": "code",
      "metadata": {
        "id": "BfdCbykisHXz"
      },
      "source": [
        "from sklearn.metrics import classification_report"
      ],
      "execution_count": 16,
      "outputs": []
    },
    {
      "cell_type": "code",
      "metadata": {
        "colab": {
          "base_uri": "https://localhost:8080/"
        },
        "id": "ZFELEx3isVZF",
        "outputId": "e389fcdc-4191-4866-e997-7d28da8c8709"
      },
      "source": [
        "print(classification_report(y_pred,y_test))"
      ],
      "execution_count": 17,
      "outputs": [
        {
          "output_type": "stream",
          "text": [
            "              precision    recall  f1-score   support\n",
            "\n",
            "           0       0.99      0.75      0.85       498\n",
            "           1       0.12      0.77      0.21        22\n",
            "\n",
            "    accuracy                           0.75       520\n",
            "   macro avg       0.55      0.76      0.53       520\n",
            "weighted avg       0.95      0.75      0.83       520\n",
            "\n"
          ],
          "name": "stdout"
        }
      ]
    },
    {
      "cell_type": "markdown",
      "metadata": {
        "id": "t-PEjwqBskCB"
      },
      "source": [
        "**Decision Tree**"
      ]
    },
    {
      "cell_type": "code",
      "metadata": {
        "id": "hXYU1PUTsZVI"
      },
      "source": [
        "from sklearn.tree import DecisionTreeClassifier"
      ],
      "execution_count": 18,
      "outputs": []
    },
    {
      "cell_type": "code",
      "metadata": {
        "id": "fJwJpnMrszDD"
      },
      "source": [
        "dt_model = DecisionTreeClassifier(max_leaf_nodes=80)"
      ],
      "execution_count": 56,
      "outputs": []
    },
    {
      "cell_type": "code",
      "metadata": {
        "colab": {
          "base_uri": "https://localhost:8080/"
        },
        "id": "HrhfALhps61j",
        "outputId": "c5d53fdd-f2dc-4751-b56c-6825a4125f62"
      },
      "source": [
        "dt_model.fit(x_train,y_train)"
      ],
      "execution_count": 57,
      "outputs": [
        {
          "output_type": "execute_result",
          "data": {
            "text/plain": [
              "DecisionTreeClassifier(ccp_alpha=0.0, class_weight=None, criterion='gini',\n",
              "                       max_depth=None, max_features=None, max_leaf_nodes=80,\n",
              "                       min_impurity_decrease=0.0, min_impurity_split=None,\n",
              "                       min_samples_leaf=1, min_samples_split=2,\n",
              "                       min_weight_fraction_leaf=0.0, presort='deprecated',\n",
              "                       random_state=None, splitter='best')"
            ]
          },
          "metadata": {
            "tags": []
          },
          "execution_count": 57
        }
      ]
    },
    {
      "cell_type": "code",
      "metadata": {
        "id": "k7c-78KOtEhW"
      },
      "source": [
        "dt_pred = dt_model.predict(x_test)"
      ],
      "execution_count": 58,
      "outputs": []
    },
    {
      "cell_type": "code",
      "metadata": {
        "colab": {
          "base_uri": "https://localhost:8080/"
        },
        "id": "JIRvTVCdtSgw",
        "outputId": "7fc7bcff-ab08-41ef-f52f-f11be8e0d7fe"
      },
      "source": [
        "print(classification_report(dt_pred , y_test))"
      ],
      "execution_count": 59,
      "outputs": [
        {
          "output_type": "stream",
          "text": [
            "              precision    recall  f1-score   support\n",
            "\n",
            "           0       0.43      0.79      0.55       204\n",
            "           1       0.70      0.31      0.43       316\n",
            "\n",
            "    accuracy                           0.50       520\n",
            "   macro avg       0.56      0.55      0.49       520\n",
            "weighted avg       0.59      0.50      0.48       520\n",
            "\n"
          ],
          "name": "stdout"
        }
      ]
    },
    {
      "cell_type": "markdown",
      "metadata": {
        "id": "Fas_z9v7un8o"
      },
      "source": [
        "**Random Forest**"
      ]
    },
    {
      "cell_type": "code",
      "metadata": {
        "id": "JCFEnkaJtYGP"
      },
      "source": [
        "from sklearn.ensemble import RandomForestClassifier"
      ],
      "execution_count": 60,
      "outputs": []
    },
    {
      "cell_type": "code",
      "metadata": {
        "id": "Gp5aNF1Ft_00"
      },
      "source": [
        "rfc_model = RandomForestClassifier()"
      ],
      "execution_count": 61,
      "outputs": []
    },
    {
      "cell_type": "code",
      "metadata": {
        "colab": {
          "base_uri": "https://localhost:8080/"
        },
        "id": "KD54i1L0uCsT",
        "outputId": "7819fa4e-c42b-4d3f-e150-6c08a6b70913"
      },
      "source": [
        "rfc_model.fit(x_train,y_train)"
      ],
      "execution_count": 63,
      "outputs": [
        {
          "output_type": "execute_result",
          "data": {
            "text/plain": [
              "RandomForestClassifier(bootstrap=True, ccp_alpha=0.0, class_weight=None,\n",
              "                       criterion='gini', max_depth=None, max_features='auto',\n",
              "                       max_leaf_nodes=None, max_samples=None,\n",
              "                       min_impurity_decrease=0.0, min_impurity_split=None,\n",
              "                       min_samples_leaf=1, min_samples_split=2,\n",
              "                       min_weight_fraction_leaf=0.0, n_estimators=100,\n",
              "                       n_jobs=None, oob_score=False, random_state=None,\n",
              "                       verbose=0, warm_start=False)"
            ]
          },
          "metadata": {
            "tags": []
          },
          "execution_count": 63
        }
      ]
    },
    {
      "cell_type": "code",
      "metadata": {
        "id": "hPndgyV_uGAq"
      },
      "source": [
        "rfc_pred = rfc_model.predict(x_test)"
      ],
      "execution_count": 65,
      "outputs": []
    },
    {
      "cell_type": "code",
      "metadata": {
        "colab": {
          "base_uri": "https://localhost:8080/"
        },
        "id": "gAZljovAuOdr",
        "outputId": "94b14a60-0d87-4f8e-88e6-1e1a7021e0b3"
      },
      "source": [
        "print(classification_report(rfc_pred,y_test))"
      ],
      "execution_count": 66,
      "outputs": [
        {
          "output_type": "stream",
          "text": [
            "              precision    recall  f1-score   support\n",
            "\n",
            "           0       0.82      0.75      0.78       418\n",
            "           1       0.25      0.34      0.29       102\n",
            "\n",
            "    accuracy                           0.67       520\n",
            "   macro avg       0.54      0.55      0.54       520\n",
            "weighted avg       0.71      0.67      0.69       520\n",
            "\n"
          ],
          "name": "stdout"
        }
      ]
    },
    {
      "cell_type": "markdown",
      "metadata": {
        "id": "Uh7sV26Burq7"
      },
      "source": [
        "**Naive Bayes**"
      ]
    },
    {
      "cell_type": "code",
      "metadata": {
        "id": "LKPPGMDDuie1"
      },
      "source": [
        "from sklearn.naive_bayes import GaussianNB, BernoulliNB"
      ],
      "execution_count": 67,
      "outputs": []
    },
    {
      "cell_type": "code",
      "metadata": {
        "id": "ctGOFmf2u1IN"
      },
      "source": [
        "gnb_model = GaussianNB()\n",
        "bnb_model =  BernoulliNB()"
      ],
      "execution_count": 68,
      "outputs": []
    },
    {
      "cell_type": "code",
      "metadata": {
        "colab": {
          "base_uri": "https://localhost:8080/"
        },
        "id": "NzD_gOtbu7_p",
        "outputId": "50118d9a-4833-4fe1-9533-91d15c9de183"
      },
      "source": [
        "gnb_model.fit(x_train,y_train)"
      ],
      "execution_count": 69,
      "outputs": [
        {
          "output_type": "execute_result",
          "data": {
            "text/plain": [
              "GaussianNB(priors=None, var_smoothing=1e-09)"
            ]
          },
          "metadata": {
            "tags": []
          },
          "execution_count": 69
        }
      ]
    },
    {
      "cell_type": "code",
      "metadata": {
        "id": "h5eV5mIYvMTu"
      },
      "source": [
        "gnb_pred = gnb_model.predict(x_test)"
      ],
      "execution_count": 71,
      "outputs": []
    },
    {
      "cell_type": "code",
      "metadata": {
        "colab": {
          "base_uri": "https://localhost:8080/"
        },
        "id": "gagreiFTvQEl",
        "outputId": "61044110-ebd3-426f-de71-c3e3f47b5c03"
      },
      "source": [
        "print(classification_report(gnb_pred, y_test))"
      ],
      "execution_count": 72,
      "outputs": [
        {
          "output_type": "stream",
          "text": [
            "              precision    recall  f1-score   support\n",
            "\n",
            "           0       0.93      0.76      0.84       466\n",
            "           1       0.21      0.54      0.30        54\n",
            "\n",
            "    accuracy                           0.74       520\n",
            "   macro avg       0.57      0.65      0.57       520\n",
            "weighted avg       0.86      0.74      0.78       520\n",
            "\n"
          ],
          "name": "stdout"
        }
      ]
    },
    {
      "cell_type": "code",
      "metadata": {
        "id": "xHdET0UZx4Fr"
      },
      "source": [
        ""
      ],
      "execution_count": null,
      "outputs": []
    }
  ]
}